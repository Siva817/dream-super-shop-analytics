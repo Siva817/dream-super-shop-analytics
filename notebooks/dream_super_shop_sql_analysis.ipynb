# Dream Super Shop SQL Analysis

**Author:** Shiva Prasad Akamgari  
**Objective:** Demonstrate SQL and data analysis skills on a retail dataset, covering beginner to advanced queries.
